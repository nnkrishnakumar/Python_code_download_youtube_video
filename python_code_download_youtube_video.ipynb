{
 "cells": [
  {
   "cell_type": "code",
   "execution_count": null,
   "metadata": {},
   "outputs": [],
   "source": [
    "import pytube\n",
    "from pytube import YouTube\n",
    "url_link=\"https://www.youtube.com/watch?v=J0Aq44Pze-w\"\n",
    "youtube=pytube.YouTube(url_link)\n",
    "video=youtube.streams.get_highest_resolution()\n",
    "video=video.download(\"C:/Study Material/Ducat stuff/Python with ML_2nd joining video and dataset/all class of DS_ML_ 2nd Joining Ducate/Machine learning/ML__20__13112021(Computer vision and NLP)/project\")"
   ]
  }
 ],
 "metadata": {
  "kernelspec": {
   "display_name": "Python 3",
   "language": "python",
   "name": "python3"
  },
  "language_info": {
   "codemirror_mode": {
    "name": "ipython",
    "version": 3
   },
   "file_extension": ".py",
   "mimetype": "text/x-python",
   "name": "python",
   "nbconvert_exporter": "python",
   "pygments_lexer": "ipython3",
   "version": "3.8.5"
  }
 },
 "nbformat": 4,
 "nbformat_minor": 4
}
